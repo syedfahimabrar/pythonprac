{
  "nbformat": 4,
  "nbformat_minor": 0,
  "metadata": {
    "colab": {
      "name": "leetcode.ipynb",
      "provenance": [],
      "authorship_tag": "ABX9TyN4ZGUh37gZg18j/pgr2z0M",
      "include_colab_link": true
    },
    "kernelspec": {
      "name": "python3",
      "display_name": "Python 3"
    },
    "language_info": {
      "name": "python"
    }
  },
  "cells": [
    {
      "cell_type": "markdown",
      "metadata": {
        "id": "view-in-github",
        "colab_type": "text"
      },
      "source": [
        "<a href=\"https://colab.research.google.com/github/syedfahimabrar/pythonprac/blob/main/leetcode.ipynb\" target=\"_parent\"><img src=\"https://colab.research.google.com/assets/colab-badge.svg\" alt=\"Open In Colab\"/></a>"
      ]
    },
    {
      "cell_type": "markdown",
      "source": [
        "**1. Two Sum**\n",
        "\n",
        "https://leetcode.com/problems/two-sum/"
      ],
      "metadata": {
        "id": "iX1F7v3-sOLw"
      }
    },
    {
      "cell_type": "code",
      "source": [
        "n square solution\n",
        "class Solution(object):\n",
        "    def twoSum(self, nums, target):\n",
        "        for i in range(0,len(nums)):\n",
        "            for j in range(i,len(nums)):\n",
        "                if nums[i] + nums[j] == target:\n",
        "                    return [i,j]\n",
        "        "
      ],
      "metadata": {
        "id": "lQV6A3OXqIJ5"
      },
      "execution_count": null,
      "outputs": []
    },
    {
      "cell_type": "code",
      "source": [
        "n solution\n",
        "class Solution(object):\n",
        "    def twoSum(self, nums, target):\n",
        "        dict = {}\n",
        "        for idx, num in enumerate(nums):\n",
        "            dict[num] = idx\n",
        "        for idx, num in enumerate(nums):\n",
        "            search_value = target - num\n",
        "            if dict.get(search_value, -1) != -1:\n",
        "                if idx != dict[search_value]:\n",
        "                    return [idx,dict[search_value]]"
      ],
      "metadata": {
        "id": "Ow-AR87pxjGC"
      },
      "execution_count": null,
      "outputs": []
    },
    {
      "cell_type": "markdown",
      "source": [
        "**2. Add Two Numbers**\n",
        "https://leetcode.com/problems/add-two-numbers/"
      ],
      "metadata": {
        "id": "L4yYXv_stjT8"
      }
    },
    {
      "cell_type": "code",
      "source": [
        "class ListNode(object):\n",
        "  def __init__(self, val=0, next=None):\n",
        "    self.val = val\n",
        "    self.next = next\n",
        "ist1 = [2,4,3]\n",
        "list2 = [5,6,4]\n",
        "l1Length = len(list1)\n",
        "l2Length = len(list2)\n",
        "ln = max(l1Length,l2Length)\n",
        "sur = 0\n",
        "result = []\n",
        "for idx in range(ln):\n",
        "    if idx >= l1Length:\n",
        "        num1 = 0\n",
        "    else:\n",
        "        num1 = list1[idx]\n",
        "    if idx >= l2Length:\n",
        "        num2 = 0\n",
        "    else:\n",
        "        num2 = list2[idx]\n",
        "    sum = sur + num1 + num2\n",
        "    sur = int(sum/10)\n",
        "    sum = int(sum%10)\n",
        "    print(f'sum is {sum} num1 is {num1} num2 is {num2} sur is {sur}')\n",
        "    result.append(sum)\n",
        "    \n",
        "result.append(sur)\n",
        "if(result[ln] == 0):\n",
        "  result  = result[0:-1]\n",
        "resultNode = ListNode()\n",
        "tempNode = resultNode\n",
        "for idx,item in enumerate(result):\n",
        "    tempNode.val = item\n",
        "    print(f'idx is {idx} {len(result)} item is {item}')\n",
        "    if idx < len(result):\n",
        "      tempNode.next = ListNode()\n",
        "      tempNode = tempNode.next\n",
        "tempNode = None\n",
        "tempNode = resultNode\n",
        "while(True):\n",
        "    print(tempNode.val)\n",
        "    if tempNode.next == None:\n",
        "      break\n",
        "    tempNode = tempNode.next"
      ],
      "metadata": {
        "colab": {
          "base_uri": "https://localhost:8080/"
        },
        "id": "7DE5F1QymJp6",
        "outputId": "b0a09bcb-8ef5-41ab-fb87-288c8f05941a"
      },
      "execution_count": 25,
      "outputs": [
        {
          "output_type": "stream",
          "name": "stdout",
          "text": [
            "sum is 7 num1 is 2 num2 is 5 sur is 0\n",
            "sum is 0 num1 is 4 num2 is 6 sur is 1\n",
            "sum is 8 num1 is 3 num2 is 4 sur is 0\n",
            "idx is 0 3 item is 7\n",
            "idx is 1 3 item is 0\n",
            "idx is 2 3 item is 8\n",
            "7\n",
            "0\n",
            "8\n",
            "0\n"
          ]
        }
      ]
    }
  ]
}