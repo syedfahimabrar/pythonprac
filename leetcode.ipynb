{
  "nbformat": 4,
  "nbformat_minor": 0,
  "metadata": {
    "colab": {
      "name": "leetcode.ipynb",
      "provenance": [],
      "authorship_tag": "ABX9TyPQPKDNGoWYWrgfIrTC/wy3",
      "include_colab_link": true
    },
    "kernelspec": {
      "name": "python3",
      "display_name": "Python 3"
    },
    "language_info": {
      "name": "python"
    }
  },
  "cells": [
    {
      "cell_type": "markdown",
      "metadata": {
        "id": "view-in-github",
        "colab_type": "text"
      },
      "source": [
        "<a href=\"https://colab.research.google.com/github/syedfahimabrar/pythonprac/blob/main/leetcode.ipynb\" target=\"_parent\"><img src=\"https://colab.research.google.com/assets/colab-badge.svg\" alt=\"Open In Colab\"/></a>"
      ]
    },
    {
      "cell_type": "markdown",
      "source": [
        "**1. Two Sum**\n",
        "\n",
        "https://leetcode.com/problems/two-sum/"
      ],
      "metadata": {
        "id": "iX1F7v3-sOLw"
      }
    },
    {
      "cell_type": "code",
      "source": [
        "class Solution(object):\n",
        "    def twoSum(self, nums, target):\n",
        "        for i in range(0,len(nums)):\n",
        "            for j in range(i,len(nums)):\n",
        "                if nums[i] + nums[j] == target:\n",
        "                    return [i,j]\n",
        "        "
      ],
      "metadata": {
        "id": "lQV6A3OXqIJ5"
      },
      "execution_count": null,
      "outputs": []
    }
  ]
}