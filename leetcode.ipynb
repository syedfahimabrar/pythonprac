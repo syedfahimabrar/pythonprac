{
  "nbformat": 4,
  "nbformat_minor": 0,
  "metadata": {
    "colab": {
      "name": "leetcode.ipynb",
      "provenance": [],
      "authorship_tag": "ABX9TyPuhBwAZ5w2nrD3ZtSsOO5R",
      "include_colab_link": true
    },
    "kernelspec": {
      "name": "python3",
      "display_name": "Python 3"
    },
    "language_info": {
      "name": "python"
    }
  },
  "cells": [
    {
      "cell_type": "markdown",
      "metadata": {
        "id": "view-in-github",
        "colab_type": "text"
      },
      "source": [
        "<a href=\"https://colab.research.google.com/github/syedfahimabrar/pythonprac/blob/main/leetcode.ipynb\" target=\"_parent\"><img src=\"https://colab.research.google.com/assets/colab-badge.svg\" alt=\"Open In Colab\"/></a>"
      ]
    },
    {
      "cell_type": "markdown",
      "source": [
        "**1. Two Sum**\n",
        "\n",
        "https://leetcode.com/problems/two-sum/"
      ],
      "metadata": {
        "id": "iX1F7v3-sOLw"
      }
    },
    {
      "cell_type": "code",
      "source": [
        "n square solution\n",
        "class Solution(object):\n",
        "    def twoSum(self, nums, target):\n",
        "        for i in range(0,len(nums)):\n",
        "            for j in range(i,len(nums)):\n",
        "                if nums[i] + nums[j] == target:\n",
        "                    return [i,j]\n",
        "        "
      ],
      "metadata": {
        "id": "lQV6A3OXqIJ5"
      },
      "execution_count": null,
      "outputs": []
    },
    {
      "cell_type": "code",
      "source": [
        "n solution\n",
        "class Solution(object):\n",
        "    def twoSum(self, nums, target):\n",
        "        dict = {}\n",
        "        for idx, num in enumerate(nums):\n",
        "            dict[num] = idx\n",
        "        for idx, num in enumerate(nums):\n",
        "            search_value = target - num\n",
        "            if dict.get(search_value, -1) != -1:\n",
        "                if idx != dict[search_value]:\n",
        "                    return [idx,dict[search_value]]"
      ],
      "metadata": {
        "id": "Ow-AR87pxjGC"
      },
      "execution_count": null,
      "outputs": []
    },
    {
      "cell_type": "markdown",
      "source": [
        "**2. Add Two Numbers**\n",
        "https://leetcode.com/problems/add-two-numbers/"
      ],
      "metadata": {
        "id": "L4yYXv_stjT8"
      }
    },
    {
      "cell_type": "code",
      "source": [
        "# Definition for singly-linked list.\n",
        "# class ListNode(object):\n",
        "#     def __init__(self, val=0, next=None):\n",
        "#         self.val = val\n",
        "#         self.next = next\n",
        "class Solution(object):\n",
        "    def addTwoNumbers(self, l1, l2):\n",
        "        \"\"\"\n",
        "        :type l1: ListNode\n",
        "        :type l2: ListNode\n",
        "        :rtype: ListNode\n",
        "        \"\"\"\n",
        "        result = []\n",
        "        sur = 0\n",
        "        node1 = l1\n",
        "        node2 = l2\n",
        "        list1 = []\n",
        "        list2 = []\n",
        "        while(True):\n",
        "            list1.append(node1.val)\n",
        "            if(node1.next == None):\n",
        "                break\n",
        "            node1 = node1.next\n",
        "        while(True):\n",
        "            list2.append(node2.val)\n",
        "            if(node2.next == None):\n",
        "                break\n",
        "            node2 = node2.next\n",
        "        \n",
        "        l1Length = len(list1)\n",
        "        l2Length = len(list2)\n",
        "        ln = max(l1Length,l2Length)\n",
        "        \n",
        "        for idx in range(ln):\n",
        "            if idx >= l1Length:\n",
        "                num1 = 0\n",
        "            else:\n",
        "                num1 = list1[idx]\n",
        "            if idx >= l2Length:\n",
        "                num2 = 0\n",
        "            else:\n",
        "                num2 = list2[idx]\n",
        "            sum = sur + num1 + num2\n",
        "            sur = int(sum/10)\n",
        "            sum = int(sum%10)\n",
        "            result.append(sum)\n",
        "            \n",
        "        result.append(sur)\n",
        "        if(result[ln] == 0):\n",
        "            result  = result[0:-1]\n",
        "        resultNode = ListNode()\n",
        "        tempNode = resultNode\n",
        "        for idx,item in enumerate(result):\n",
        "            tempNode.val = item\n",
        "            if idx < len(result)-1:\n",
        "                tempNode.next = ListNode()\n",
        "                tempNode = tempNode.next\n",
        "        tempNode.next = None\n",
        "        return resultNode"
      ],
      "metadata": {
        "id": "7DE5F1QymJp6"
      },
      "execution_count": 27,
      "outputs": []
    }
  ]
}