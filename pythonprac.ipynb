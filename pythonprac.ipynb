{
  "nbformat": 4,
  "nbformat_minor": 0,
  "metadata": {
    "colab": {
      "name": "pythonprac",
      "provenance": [],
      "collapsed_sections": [],
      "authorship_tag": "ABX9TyNXnzz5/3tmZc9W2fG6FSI5",
      "include_colab_link": true
    },
    "kernelspec": {
      "name": "python3",
      "display_name": "Python 3"
    },
    "language_info": {
      "name": "python"
    }
  },
  "cells": [
    {
      "cell_type": "markdown",
      "metadata": {
        "id": "view-in-github",
        "colab_type": "text"
      },
      "source": [
        "<a href=\"https://colab.research.google.com/github/syedfahimabrar/pythonprac/blob/main/pythonprac.ipynb\" target=\"_parent\"><img src=\"https://colab.research.google.com/assets/colab-badge.svg\" alt=\"Open In Colab\"/></a>"
      ]
    },
    {
      "cell_type": "markdown",
      "source": [
        "**chapter 1: Variable**"
      ],
      "metadata": {
        "id": "f7fDRT_jgFu1"
      }
    },
    {
      "cell_type": "code",
      "execution_count": 4,
      "metadata": {
        "colab": {
          "base_uri": "https://localhost:8080/"
        },
        "id": "lgJ6h04hfqKQ",
        "outputId": "8aa81df5-2036-402f-c400-efed314eab9b"
      },
      "outputs": [
        {
          "output_type": "stream",
          "name": "stdout",
          "text": [
            "False\n"
          ]
        }
      ],
      "source": [
        "price = 10\n",
        "price = 20\n",
        "price = False\n",
        "print(price)"
      ]
    },
    {
      "cell_type": "markdown",
      "source": [
        "**chapter 2: Input Function**"
      ],
      "metadata": {
        "id": "jM39oltngDjk"
      }
    },
    {
      "cell_type": "code",
      "source": [
        "name = input('what is your name')\n",
        "print('my name is '+name)"
      ],
      "metadata": {
        "colab": {
          "base_uri": "https://localhost:8080/"
        },
        "id": "QzVDlCOYhYH1",
        "outputId": "094e9928-ca17-4b64-b674-afe1d8ab7686"
      },
      "execution_count": 5,
      "outputs": [
        {
          "output_type": "stream",
          "name": "stdout",
          "text": [
            "what is your namefahim abrar\n",
            "my name is fahim abrar\n"
          ]
        }
      ]
    },
    {
      "cell_type": "markdown",
      "source": [
        "**chapter 3: Array bound**\n",
        "[0:4] will return value index 0 to excluding the 4th index"
      ],
      "metadata": {
        "id": "oYQL6piChj5D"
      }
    },
    {
      "cell_type": "code",
      "source": [
        "name = 'my name is fahim'\n",
        "print(name[0:4])\n",
        "print(name[2:5])\n",
        "print(name[1:-1])"
      ],
      "metadata": {
        "colab": {
          "base_uri": "https://localhost:8080/"
        },
        "id": "Y6X61haFi3KC",
        "outputId": "54f99f89-c45a-452a-b29f-5a2d425d223d"
      },
      "execution_count": 8,
      "outputs": [
        {
          "output_type": "stream",
          "name": "stdout",
          "text": [
            "my n\n",
            " na\n",
            "y name is fahi\n"
          ]
        }
      ]
    },
    {
      "cell_type": "markdown",
      "source": [
        "**chapter 4: string interpolation or formatted string**"
      ],
      "metadata": {
        "id": "lycLNKy2jqwS"
      }
    },
    {
      "cell_type": "code",
      "source": [
        "first = 'fahim'\n",
        "last = 'abrar'\n",
        "print(f'{first} is firstname and {last} is a last name')"
      ],
      "metadata": {
        "colab": {
          "base_uri": "https://localhost:8080/"
        },
        "id": "9haV1-dAj0uo",
        "outputId": "1530893e-2a3f-4f4a-e369-03b3da4fd3d1"
      },
      "execution_count": 9,
      "outputs": [
        {
          "output_type": "stream",
          "name": "stdout",
          "text": [
            "fahim is firstname and abrar is a last name\n"
          ]
        }
      ]
    },
    {
      "cell_type": "markdown",
      "source": [
        "**chapter 5: string length**"
      ],
      "metadata": {
        "id": "dBpcExy0l1JS"
      }
    },
    {
      "cell_type": "code",
      "source": [
        "name = 'fahim'\n",
        "print(len(name))"
      ],
      "metadata": {
        "colab": {
          "base_uri": "https://localhost:8080/"
        },
        "id": "lEfC9ZCFl6o_",
        "outputId": "2c9ae26c-ccf6-42ad-e25c-ded67240ca5c"
      },
      "execution_count": 11,
      "outputs": [
        {
          "output_type": "stream",
          "name": "stdout",
          "text": [
            "5\n"
          ]
        }
      ]
    },
    {
      "cell_type": "markdown",
      "source": [
        "**chapter 6: while loop**"
      ],
      "metadata": {
        "id": "fVWQEpwOnsGO"
      }
    },
    {
      "cell_type": "code",
      "source": [
        "i = 1\n",
        "while i <= 5:\n",
        "  print(i)\n",
        "  i += 1"
      ],
      "metadata": {
        "colab": {
          "base_uri": "https://localhost:8080/"
        },
        "id": "c6BOh_BUnwXp",
        "outputId": "959e7ed9-a201-436c-f1c4-88332c11ccb8"
      },
      "execution_count": 13,
      "outputs": [
        {
          "output_type": "stream",
          "name": "stdout",
          "text": [
            "1\n",
            "2\n",
            "3\n",
            "4\n",
            "5\n"
          ]
        }
      ]
    },
    {
      "cell_type": "markdown",
      "source": [
        "**chapter 7: foreach loop**"
      ],
      "metadata": {
        "id": "ZjpxQsm0ojUN"
      }
    },
    {
      "cell_type": "code",
      "source": [
        "subjects = ['science','bengali','math','biology','physics']\n",
        "for subject in subjects:\n",
        "  print(subject)"
      ],
      "metadata": {
        "colab": {
          "base_uri": "https://localhost:8080/"
        },
        "id": "gM9g9p_SouIM",
        "outputId": "6cc0cef7-5bb8-476a-aaff-a322ab9f7486"
      },
      "execution_count": 14,
      "outputs": [
        {
          "output_type": "stream",
          "name": "stdout",
          "text": [
            "science\n",
            "bengali\n",
            "math\n",
            "biology\n",
            "physics\n"
          ]
        }
      ]
    },
    {
      "cell_type": "markdown",
      "source": [
        "**chapter 8: range**"
      ],
      "metadata": {
        "id": "YyjzMGNIpEq1"
      }
    },
    {
      "cell_type": "code",
      "source": [
        "for num in range(5):\n",
        "  print(num)\n",
        "for num in range(9,15):\n",
        "  print(num)"
      ],
      "metadata": {
        "colab": {
          "base_uri": "https://localhost:8080/"
        },
        "id": "CBwcu9W1pILt",
        "outputId": "984fff45-2046-400b-9747-f9b00bcb381b"
      },
      "execution_count": 19,
      "outputs": [
        {
          "output_type": "stream",
          "name": "stdout",
          "text": [
            "0\n",
            "1\n",
            "2\n",
            "3\n",
            "4\n",
            "9\n",
            "10\n",
            "11\n",
            "12\n",
            "13\n",
            "14\n"
          ]
        }
      ]
    },
    {
      "cell_type": "markdown",
      "source": [
        "**chapter 9: lists**"
      ],
      "metadata": {
        "id": "ARf5PlarpvaV"
      }
    },
    {
      "cell_type": "code",
      "source": [
        "names = ['fahim','gazi','sohan','mithu']\n",
        "print(names[1])\n",
        "print(names[2:4])"
      ],
      "metadata": {
        "colab": {
          "base_uri": "https://localhost:8080/"
        },
        "id": "AcGG1gkqpy5s",
        "outputId": "1fc6cf62-def8-4378-b359-311ae178ff6e"
      },
      "execution_count": 21,
      "outputs": [
        {
          "output_type": "stream",
          "name": "stdout",
          "text": [
            "gazi\n",
            "['sohan', 'mithu']\n"
          ]
        }
      ]
    }
  ]
}